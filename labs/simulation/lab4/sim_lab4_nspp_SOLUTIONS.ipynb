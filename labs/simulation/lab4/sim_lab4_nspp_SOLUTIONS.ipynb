{
 "cells": [
  {
   "cell_type": "markdown",
   "metadata": {},
   "source": [
    "# Modelling a non-stationary poisson process\n",
    "\n",
    ">A non-stationary Poisson process (NSPP) is an arrival process with an arrival rate that varies by time.\n",
    "\n",
    "One of the limitations of queuing theory is the difficulty of modelling time-dependent arrivals.  Computer \n",
    "simulation offer a number of ways of modelling non-stationary arrivals.  \n",
    "\n",
    "In this lab you will learn:\n",
    "    \n",
    "* How to implement the thinning algorithm to model a non-stationary poisson process (NSPP)\n",
    "\n",
    "> **Special thanks** to two 2020/21 students Tamir and Simon who spotted bugs in the original code!\n",
    "\n",
    "---"
   ]
  },
  {
   "cell_type": "markdown",
   "metadata": {},
   "source": [
    "# Imports"
   ]
  },
  {
   "cell_type": "code",
   "execution_count": 1,
   "metadata": {},
   "outputs": [
    {
     "data": {
      "text/plain": [
       "'4.1.1'"
      ]
     },
     "execution_count": 1,
     "metadata": {},
     "output_type": "execute_result"
    }
   ],
   "source": [
    "import pandas as pd\n",
    "import numpy as np\n",
    "import matplotlib.pyplot as plt\n",
    "import itertools\n",
    "import simpy\n",
    "\n",
    "# please use simpy version 4\n",
    "simpy.__version__"
   ]
  },
  {
   "cell_type": "markdown",
   "metadata": {},
   "source": [
    "----\n",
    "## An example NSPP\n",
    "\n",
    "The table below breaks an arrival process down into 60 minutes intervals.\n",
    "\n",
    "\n",
    "| t(min) | Mean time between arrivals (min) | Arrival Rate $\\lambda(t)$ (arrivals/min) |\n",
    "|:------:|:--------------------------------:|:--------------------------------------:|\n",
    "|    0   |                15                |                  1/15                  |\n",
    "|   60   |                12                |                  1/12                  |\n",
    "|   120  |                 7                |                   1/7                  |\n",
    "|   180  |                 5                |                   1/5                  |\n",
    "|   240  |                 8                |                   1/8                  |\n",
    "|   300  |                10                |                  1/10                  |\n",
    "|   360  |                15                |                  1/15                  |\n",
    "|   420  |                20                |                  1/20                  |\n",
    "|   480  |                20                |                  1/20                  |\n",
    "\n",
    "> **Interpretation**: In the table above the fastest arrival rate is 1/5 customers per minute or 5 minutes between customer arrivals."
   ]
  },
  {
   "cell_type": "markdown",
   "metadata": {},
   "source": [
    "## Thinning\n",
    "\n",
    "Thinning is a acceptance-rejection sampling method and is used to generate inter-arrival times from a NSPP.  \n",
    "\n",
    "> A NSPP has arrival rate $\\lambda(t)$ where $0 \\leq t \\leq T$"
   ]
  },
  {
   "cell_type": "markdown",
   "metadata": {},
   "source": [
    "**The thinning algorithm**\n",
    "\n",
    "A NSPP has arrival rate $\\lambda(t)$ where $0 \\leq t \\leq T$\n",
    "\n",
    "Here $i$ is the arrival number and $\\mathcal{T_i}$ is its arrival time.\n",
    "\n",
    "1. Let $\\lambda^* = \\max_{0 \\leq t \\leq T}\\lambda(t)$ be the maximum of the arrival rate function and set $t = 0$ and $i=1$\n",
    "\n",
    "2. Generate $e$ from the exponential distribution with rate $\\lambda^*$ and let $t = t + e$ (this is the time of the next entity will arrive)\n",
    "\n",
    "3. Generate $u$ from the $U(0,1)$ distribution.  If $u \\leq \\dfrac{\\lambda(t)}{\\lambda^*}$ then $\\mathcal{T_i} =t$ and $i = i + 1$\n",
    "\n",
    "4. Go to Step 2."
   ]
  },
  {
   "cell_type": "markdown",
   "metadata": {},
   "source": [
    "# Exercise 1: simulation **without thinning**\n",
    "\n",
    "**Task:**\n",
    "* Build a simple `simpy` model that simulates time-dependent arrivals\n",
    "* For this exercise please **IGNORE** the need for a thinning process.\n",
    "\n",
    "**Optional task:**\n",
    "* It is useful to set the sampling of arrivals using a random seed.  This will allow you to compare the number of arrivals before and after adding thinning.  **Remember that an issue with DES without thinning occurs when moving from a period $t$ with a low arrival rate to $t+1$ that has a high one.**\n",
    "\n",
    "**Hints:**\n",
    "* Build your model up gradually. \n",
    "* Start by building a model that simulates exponential arrivals using a single mean inter-arrival time then add in logic to change which mean you use depending on the simulation time.\n",
    "* The logic to decide the time period is equivalent to asking yourself \"given `env.now()` and that arrival rates are split into 60 minute chunks which row of my dataframe should I select\".\n",
    "* To simplify the task you set the run length of the simulation to no more than 540 minutes.  For an extra challenge think about how you would run the model for longer than 480 minutes and loop back round to the first period (the code to do this is surprising simple).\n",
    "\n",
    "The data are stored in a file `data/nspp_example1.csv`. "
   ]
  },
  {
   "cell_type": "code",
   "execution_count": 2,
   "metadata": {},
   "outputs": [],
   "source": [
    "# your code here ..."
   ]
  },
  {
   "cell_type": "code",
   "execution_count": 3,
   "metadata": {},
   "outputs": [
    {
     "data": {
      "text/html": [
       "<div>\n",
       "<style scoped>\n",
       "    .dataframe tbody tr th:only-of-type {\n",
       "        vertical-align: middle;\n",
       "    }\n",
       "\n",
       "    .dataframe tbody tr th {\n",
       "        vertical-align: top;\n",
       "    }\n",
       "\n",
       "    .dataframe thead th {\n",
       "        text-align: right;\n",
       "    }\n",
       "</style>\n",
       "<table border=\"1\" class=\"dataframe\">\n",
       "  <thead>\n",
       "    <tr style=\"text-align: right;\">\n",
       "      <th></th>\n",
       "      <th>t</th>\n",
       "      <th>mean_iat</th>\n",
       "      <th>arrival_rate</th>\n",
       "    </tr>\n",
       "  </thead>\n",
       "  <tbody>\n",
       "    <tr>\n",
       "      <th>0</th>\n",
       "      <td>0</td>\n",
       "      <td>15</td>\n",
       "      <td>0.066667</td>\n",
       "    </tr>\n",
       "    <tr>\n",
       "      <th>1</th>\n",
       "      <td>60</td>\n",
       "      <td>12</td>\n",
       "      <td>0.083333</td>\n",
       "    </tr>\n",
       "    <tr>\n",
       "      <th>2</th>\n",
       "      <td>120</td>\n",
       "      <td>7</td>\n",
       "      <td>0.142857</td>\n",
       "    </tr>\n",
       "    <tr>\n",
       "      <th>3</th>\n",
       "      <td>180</td>\n",
       "      <td>5</td>\n",
       "      <td>0.200000</td>\n",
       "    </tr>\n",
       "    <tr>\n",
       "      <th>4</th>\n",
       "      <td>240</td>\n",
       "      <td>8</td>\n",
       "      <td>0.125000</td>\n",
       "    </tr>\n",
       "    <tr>\n",
       "      <th>5</th>\n",
       "      <td>300</td>\n",
       "      <td>10</td>\n",
       "      <td>0.100000</td>\n",
       "    </tr>\n",
       "    <tr>\n",
       "      <th>6</th>\n",
       "      <td>360</td>\n",
       "      <td>15</td>\n",
       "      <td>0.066667</td>\n",
       "    </tr>\n",
       "    <tr>\n",
       "      <th>7</th>\n",
       "      <td>420</td>\n",
       "      <td>20</td>\n",
       "      <td>0.050000</td>\n",
       "    </tr>\n",
       "    <tr>\n",
       "      <th>8</th>\n",
       "      <td>480</td>\n",
       "      <td>20</td>\n",
       "      <td>0.050000</td>\n",
       "    </tr>\n",
       "  </tbody>\n",
       "</table>\n",
       "</div>"
      ],
      "text/plain": [
       "     t  mean_iat  arrival_rate\n",
       "0    0        15      0.066667\n",
       "1   60        12      0.083333\n",
       "2  120         7      0.142857\n",
       "3  180         5      0.200000\n",
       "4  240         8      0.125000\n",
       "5  300        10      0.100000\n",
       "6  360        15      0.066667\n",
       "7  420        20      0.050000\n",
       "8  480        20      0.050000"
      ]
     },
     "execution_count": 3,
     "metadata": {},
     "output_type": "execute_result"
    }
   ],
   "source": [
    "# example answer\n",
    "\n",
    "# read in the data and calculate lambda\n",
    "arrivals = pd.read_csv('data/nspp_example1.csv')\n",
    "arrivals['arrival_rate'] = 1 / arrivals['mean_iat']\n",
    "arrivals"
   ]
  },
  {
   "cell_type": "code",
   "execution_count": 4,
   "metadata": {},
   "outputs": [],
   "source": [
    "# This example answer shows how to build up your functionality gradually.\n",
    "\n",
    "# iteration 1: ignoring time dependence.  \n",
    "# I just use the first mean in the dataframe and build up the basic structure of \n",
    "# the code. A few lines of code and have an incorrect(!) but running model.\n",
    "\n",
    "def arrivals_generator(env, means, random_seed=None):\n",
    "    rng = np.random.default_rng(random_seed)\n",
    "    \n",
    "    for n in itertools.count():\n",
    "        interarrival_time = rng.exponential(means['mean_iat'].iloc[0])\n",
    "        yield env.timeout(interarrival_time)\n",
    "        print(f'arrival {n} at {env.now}')\n"
   ]
  },
  {
   "cell_type": "code",
   "execution_count": 5,
   "metadata": {},
   "outputs": [
    {
     "name": "stdout",
     "output_type": "stream",
     "text": [
      "arrival 0 at 36.06312905948992\n",
      "arrival 1 at 71.10597389685671\n",
      "arrival 2 at 106.87738889497054\n",
      "arrival 3 at 111.07430324274428\n",
      "arrival 4 at 112.37086423821994\n",
      "arrival 5 at 134.1607719738122\n",
      "arrival 6 at 155.31018238767578\n",
      "arrival 7 at 202.17462173591824\n",
      "arrival 8 at 203.36403469367087\n",
      "arrival 9 at 219.06244739181835\n",
      "arrival 10 at 220.11899199378547\n",
      "arrival 11 at 236.45434641414488\n",
      "arrival 12 at 262.424256707402\n",
      "arrival 13 at 268.22767907625064\n",
      "arrival 14 at 286.7014640161742\n",
      "arrival 15 at 289.0080628235676\n",
      "arrival 16 at 290.3817218344205\n",
      "arrival 17 at 295.1094098664064\n",
      "arrival 18 at 308.6273989969588\n",
      "arrival 19 at 314.82217894303614\n",
      "arrival 20 at 333.5329681902405\n",
      "arrival 21 at 336.8866137734253\n",
      "arrival 22 at 364.45616773559226\n",
      "arrival 23 at 382.86245568380616\n",
      "arrival 24 at 392.6993979932512\n",
      "arrival 25 at 398.95569858792845\n",
      "arrival 26 at 405.7554939274024\n",
      "arrival 27 at 406.9116511332372\n",
      "arrival 28 at 409.6061349488555\n",
      "arrival 29 at 419.88594172291926\n",
      "arrival 30 at 425.7161452653166\n",
      "arrival 31 at 444.6792481287932\n",
      "arrival 32 at 455.30660754003503\n",
      "arrival 33 at 458.87555685450525\n",
      "arrival 34 at 465.7918818983673\n",
      "arrival 35 at 475.415232956225\n",
      "arrival 36 at 480.5727333777919\n",
      "arrival 37 at 485.4014016913866\n",
      "arrival 38 at 498.58512192427474\n",
      "arrival 39 at 503.03933005820676\n",
      "arrival 40 at 523.044866433685\n"
     ]
    }
   ],
   "source": [
    "RUN_LENGTH = 540\n",
    "env = simpy.Environment()\n",
    "env.process(arrivals_generator(env, arrivals, random_seed=42))\n",
    "env.run(RUN_LENGTH)"
   ]
  },
  {
   "cell_type": "code",
   "execution_count": 6,
   "metadata": {},
   "outputs": [],
   "source": [
    "# iteration 2.  I've now added an index t used to select the correct mean IAT.\n",
    "\n",
    "def arrivals_generator(env, means, random_seed=None):\n",
    "    rng = np.random.default_rng(random_seed)\n",
    "    \n",
    "    for n in itertools.count():\n",
    "        \n",
    "        # this give us the index of dataframe to use\n",
    "        # I've used mod 9 so that run_lengh can be > 540\n",
    "        t = int(env.now // 60) % 9\n",
    "        interarrival_time = rng.exponential(means['mean_iat'].iloc[t])\n",
    "        yield env.timeout(interarrival_time)\n",
    "        print(f'arrival {n} at {env.now}')"
   ]
  },
  {
   "cell_type": "code",
   "execution_count": 7,
   "metadata": {},
   "outputs": [
    {
     "name": "stdout",
     "output_type": "stream",
     "text": [
      "arrival 0 at 36.06312905948992\n",
      "arrival 1 at 71.10597389685671\n",
      "arrival 2 at 99.72310589534777\n",
      "arrival 3 at 103.08063737356677\n",
      "arrival 4 at 104.1178861699473\n",
      "arrival 5 at 121.54981235842111\n",
      "arrival 6 at 131.41953721822412\n",
      "arrival 7 at 153.2896089140706\n",
      "arrival 8 at 153.8446682943552\n",
      "arrival 9 at 161.17059422015734\n",
      "arrival 10 at 161.66364836774198\n",
      "arrival 11 at 169.2868137639097\n",
      "arrival 12 at 181.40610523409634\n",
      "arrival 13 at 183.3405793570459\n",
      "arrival 14 at 189.49850767035377\n",
      "arrival 15 at 190.2673739394849\n",
      "arrival 16 at 190.72526027643588\n",
      "arrival 17 at 192.30115628709785\n",
      "arrival 18 at 196.80715266394864\n",
      "arrival 19 at 198.8720793126411\n",
      "arrival 20 at 205.1090090617092\n",
      "arrival 21 at 206.2268909227708\n",
      "arrival 22 at 215.4167422434931\n",
      "arrival 23 at 221.55217155956439\n",
      "arrival 24 at 224.8311523293794\n",
      "arrival 25 at 226.91658586093848\n",
      "arrival 26 at 229.1831843074298\n",
      "arrival 27 at 229.56857004270807\n",
      "arrival 28 at 230.46673131458084\n",
      "arrival 29 at 233.8933335726021\n",
      "arrival 30 at 235.8367347534012\n",
      "arrival 31 at 242.15776904122674\n",
      "arrival 32 at 247.82569406055575\n",
      "arrival 33 at 249.7291336949399\n",
      "arrival 34 at 253.41784038499966\n",
      "arrival 35 at 258.5502942825238\n",
      "arrival 36 at 261.30096117402616\n",
      "arrival 37 at 263.8762509412766\n",
      "arrival 38 at 270.907568398817\n",
      "arrival 39 at 273.28314607024737\n",
      "arrival 40 at 283.9527654705024\n",
      "arrival 41 at 295.07967736046965\n",
      "arrival 42 at 303.7523407841912\n",
      "arrival 43 at 304.48262426399555\n",
      "arrival 44 at 315.8232992812231\n",
      "arrival 45 at 329.3666791598748\n",
      "arrival 46 at 340.5870756744491\n",
      "arrival 47 at 343.38756687681337\n",
      "arrival 48 at 346.5969287871737\n",
      "arrival 49 at 348.25428786018966\n",
      "arrival 50 at 351.7979229871043\n",
      "arrival 51 at 352.00932055120217\n",
      "arrival 52 at 353.6828845123593\n",
      "arrival 53 at 366.83345295783084\n",
      "arrival 54 at 426.76979702560345\n",
      "arrival 55 at 438.04055887337614\n",
      "arrival 56 at 443.7213529053927\n",
      "arrival 57 at 451.6764779835374\n",
      "arrival 58 at 458.90332244223566\n",
      "arrival 59 at 461.4959945067077\n",
      "arrival 60 at 483.16249720413987\n",
      "arrival 61 at 510.6794742744887\n"
     ]
    }
   ],
   "source": [
    "RUN_LENGTH = 540\n",
    "env = simpy.Environment()\n",
    "env.process(arrivals_generator(env, arrivals, random_seed=42))\n",
    "env.run(RUN_LENGTH)"
   ]
  },
  {
   "cell_type": "markdown",
   "metadata": {},
   "source": [
    "## Exercise 2: Thinning the arrivals\n",
    "\n",
    "**Task:**\n",
    "* Update your exercise 1 code to include an implementation of thinning\n",
    "* What do you notice about the total number of arrivals compared to the previous example? Why has the changed occurred?\n",
    "   * If you are not controlling your sampling with random seeds you will need to run each implementation a few times.\n",
    "\n",
    "**Hints:**\n",
    "* You will need a second distribution - Uniform(0, 1) to do the thinning.  If you are controlling random sampling through seeds that means you will need a second seed.\n"
   ]
  },
  {
   "cell_type": "code",
   "execution_count": 8,
   "metadata": {},
   "outputs": [],
   "source": [
    "# your code here ..."
   ]
  },
  {
   "cell_type": "code",
   "execution_count": 9,
   "metadata": {},
   "outputs": [],
   "source": [
    "# Example answer ...\n",
    "\n",
    "# I've added an extra bit of code here to report the number of rejections for each arrival\n",
    "# You wouldn't include that in production code\n",
    "\n",
    "def arrivals_generator_with_thinning(env, means, audit=None, seed1=None, \n",
    "                                     seed2=None):\n",
    "    \n",
    "    arr_rng = np.random.default_rng(seed1)\n",
    "    thinning_rng = np.random.default_rng(seed2)\n",
    "    \n",
    "    # maximum arrival rate (smallest time between arrivals)\n",
    "    lambda_max = means['arrival_rate'].max()\n",
    "    \n",
    "    for n in itertools.count():\n",
    "\n",
    "        # this give us the index of dataframe to use\n",
    "        t = int(env.now // 60) % 9\n",
    "        lambda_t = means['arrival_rate'].iloc[t]\n",
    "        \n",
    "        # set to a large number so that at least 1 sample taken!\n",
    "        u = np.inf\n",
    "        rejects = -1\n",
    "        \n",
    "        interarrival_time = 0.0\n",
    "        \n",
    "        # reject samples if u >= lambda_t / lambda_max\n",
    "        while u >= (lambda_t / lambda_max):\n",
    "            rejects += 1\n",
    "            interarrival_time += arr_rng.exponential(1/lambda_max)\n",
    "            u = thinning_rng.uniform(0, 1)\n",
    "        \n",
    "        yield env.timeout(interarrival_time)\n",
    "        \n",
    "        # if audit included then record arrival numbers\n",
    "        if audit != None: \n",
    "            audit[-1] += 1\n",
    "        else:\n",
    "            print(f'arrival {n} at {env.now:.2f}. Rejected samples = {rejects}')"
   ]
  },
  {
   "cell_type": "code",
   "execution_count": 10,
   "metadata": {},
   "outputs": [
    {
     "name": "stdout",
     "output_type": "stream",
     "text": [
      "arrival 0 at 37.46. Rejected samples = 4\n",
      "arrival 1 at 73.02. Rejected samples = 4\n",
      "arrival 2 at 89.41. Rejected samples = 3\n",
      "arrival 3 at 96.79. Rejected samples = 2\n",
      "arrival 4 at 98.37. Rejected samples = 0\n",
      "arrival 5 at 104.94. Rejected samples = 1\n",
      "arrival 6 at 112.30. Rejected samples = 1\n",
      "arrival 7 at 121.49. Rejected samples = 0\n",
      "arrival 8 at 127.62. Rejected samples = 0\n",
      "arrival 9 at 135.25. Rejected samples = 2\n",
      "arrival 10 at 135.64. Rejected samples = 0\n",
      "arrival 11 at 141.91. Rejected samples = 2\n",
      "arrival 12 at 148.23. Rejected samples = 0\n",
      "arrival 13 at 155.26. Rejected samples = 2\n",
      "arrival 14 at 158.47. Rejected samples = 0\n",
      "arrival 15 at 160.19. Rejected samples = 0\n",
      "arrival 16 at 167.68. Rejected samples = 2\n",
      "arrival 17 at 174.35. Rejected samples = 0\n",
      "arrival 18 at 181.30. Rejected samples = 0\n",
      "arrival 19 at 186.72. Rejected samples = 0\n",
      "arrival 20 at 187.09. Rejected samples = 0\n",
      "arrival 21 at 192.76. Rejected samples = 0\n",
      "arrival 22 at 199.53. Rejected samples = 0\n",
      "arrival 23 at 205.14. Rejected samples = 0\n",
      "arrival 24 at 206.54. Rejected samples = 0\n",
      "arrival 25 at 208.15. Rejected samples = 0\n",
      "arrival 26 at 208.97. Rejected samples = 0\n",
      "arrival 27 at 210.75. Rejected samples = 0\n",
      "arrival 28 at 210.85. Rejected samples = 0\n",
      "arrival 29 at 211.69. Rejected samples = 0\n",
      "arrival 30 at 218.26. Rejected samples = 0\n",
      "arrival 31 at 238.24. Rejected samples = 0\n",
      "arrival 32 at 241.06. Rejected samples = 0\n",
      "arrival 33 at 244.47. Rejected samples = 1\n",
      "arrival 34 at 246.92. Rejected samples = 1\n",
      "arrival 35 at 259.22. Rejected samples = 1\n",
      "arrival 36 at 266.76. Rejected samples = 0\n",
      "arrival 37 at 293.31. Rejected samples = 0\n",
      "arrival 38 at 320.47. Rejected samples = 4\n",
      "arrival 39 at 328.36. Rejected samples = 1\n",
      "arrival 40 at 346.04. Rejected samples = 1\n",
      "arrival 41 at 347.95. Rejected samples = 1\n",
      "arrival 42 at 380.10. Rejected samples = 3\n",
      "arrival 43 at 393.26. Rejected samples = 4\n",
      "arrival 44 at 402.71. Rejected samples = 2\n",
      "arrival 45 at 406.88. Rejected samples = 1\n",
      "arrival 46 at 428.54. Rejected samples = 3\n",
      "arrival 47 at 435.37. Rejected samples = 3\n",
      "arrival 48 at 435.75. Rejected samples = 0\n",
      "arrival 49 at 485.80. Rejected samples = 5\n",
      "arrival 50 at 505.93. Rejected samples = 3\n",
      "arrival 51 at 517.75. Rejected samples = 1\n"
     ]
    }
   ],
   "source": [
    "RUN_LENGTH = 540\n",
    "\n",
    "env = simpy.Environment()\n",
    "env.process(arrivals_generator_with_thinning(env, arrivals, \n",
    "                                             seed1=42, seed2=101))\n",
    "env.run(RUN_LENGTH)"
   ]
  },
  {
   "cell_type": "markdown",
   "metadata": {},
   "source": [
    "# Optional extra: Validate the total number of arrivals in 540 minutes.\n",
    "\n",
    "Here we will repeat the same 10,000 times and then explore the distribution of the number of arrivals.  If all has gone to plan this should be a Poisson distribution with mean ~53."
   ]
  },
  {
   "cell_type": "code",
   "execution_count": 11,
   "metadata": {},
   "outputs": [],
   "source": [
    "RUN_LENGTH = 540\n",
    "REPLICATIONS = 10_000\n",
    "audit = []\n",
    "\n",
    "rng = np.random.default_rng(42)\n",
    "\n",
    "for i in range(REPLICATIONS):\n",
    "    # set up audit for replication.\n",
    "    audit.append(0)\n",
    "    env = simpy.Environment()\n",
    "    # don't set the random number generator: we want different results each time\n",
    "    env.process(arrivals_generator_with_thinning(env, arrivals, audit))\n",
    "    env.run(RUN_LENGTH)"
   ]
  },
  {
   "cell_type": "code",
   "execution_count": 12,
   "metadata": {},
   "outputs": [
    {
     "data": {
      "image/png": "[encoded data removed]",
      "text/plain": [
       "<Figure size 640x480 with 1 Axes>"
      ]
     },
     "metadata": {},
     "output_type": "display_data"
    }
   ],
   "source": [
    "# distribution\n",
    "plt.hist(audit);"
   ]
  },
  {
   "cell_type": "code",
   "execution_count": 15,
   "metadata": {},
   "outputs": [
    {
     "name": "stdout",
     "output_type": "stream",
     "text": [
      "52.88\n"
     ]
    }
   ],
   "source": [
    "# mean\n",
    "print(np.array(audit).mean().round(2))"
   ]
  },
  {
   "cell_type": "code",
   "execution_count": 14,
   "metadata": {},
   "outputs": [
    {
     "data": {
      "text/plain": [
       "53.07"
      ]
     },
     "execution_count": 14,
     "metadata": {},
     "output_type": "execute_result"
    }
   ],
   "source": [
    "# expected arrivals from data.\n",
    "round(sum(arrivals['arrival_rate'] * 60), 2)"
   ]
  }
 ],
 "metadata": {
  "kernelspec": {
   "display_name": "Python 3 (ipykernel)",
   "language": "python",
   "name": "python3"
  },
  "language_info": {
   "codemirror_mode": {
    "name": "ipython",
    "version": 3
   },
   "file_extension": ".py",
   "mimetype": "text/x-python",
   "name": "python",
   "nbconvert_exporter": "python",
   "pygments_lexer": "ipython3",
   "version": "3.11.9"
  }
 },
 "nbformat": 4,
 "nbformat_minor": 4
}
